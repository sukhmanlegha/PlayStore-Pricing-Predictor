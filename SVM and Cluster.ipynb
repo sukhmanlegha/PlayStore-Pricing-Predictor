{
 "cells": [
  {
   "cell_type": "markdown",
   "id": "4374af4c",
   "metadata": {},
   "source": [
    "<H2>Task 1 - Free Apps from Google Play</H2>"
   ]
  },
  {
   "cell_type": "markdown",
   "id": "01c17c6a",
   "metadata": {},
   "source": [
    " <p>Predicting which apps cost money and which are free?</p>\n",
    "\n",
    "<p>The data used in this task is a modified version of that found on <a href=\"https://www.kaggle.com/gauthamp10/google-playstore-apps\">Kaggle</a>.</p>\n",
    "\n",
    "<p>Have a look at the files <code>Playstore_AppNames.txt</code> and <code>Playstore_data.csv</code>, which contain information for approximately four thousand apps available from the Google Play Store. Data for each app includes the average rating of users, number of reviews, number of verified installs, size of the app, date of last update, minimum Android version required to run the app, the current version of the app, and whether the app is free or costs money. In this project I train an SVM to predict whether an app is free (0) or costs money (1), as indicated in the final column of the file. As always, I will split the data appropriately into training and testing. Also, I'll evaluate the accuracy of the SVM when different values are used for parameters <code>C</code> and <code>gamma</code>. A na&iuml;ve classifier should achieve an accuracy of about 50%, since approximately half of the apps are free and half cost money.</p>"
   ]
  },
  {
   "cell_type": "code",
   "execution_count": 1,
   "id": "4e1af509",
   "metadata": {},
   "outputs": [
    {
     "data": {
      "text/plain": [
       "Pipeline(steps=[('standardscaler', StandardScaler()),\n",
       "                ('svc',\n",
       "                 SVC(C=901.4180571633304, gamma=0.01845877663478864,\n",
       "                     random_state=42))])"
      ]
     },
     "execution_count": 1,
     "metadata": {},
     "output_type": "execute_result"
    }
   ],
   "source": [
    "# Read in data from file Playstore_data.csv.\n",
    "# Store data examples in numpy array X and classes in numpy array y.\n",
    "# Split data into training data and testing data.\n",
    "# Create a support vector classifier, train it on the training data, \n",
    "# and test it on the testing data.\n",
    "# Evaluate the accuracy of the SVM when different values are used for parameters C and gamma.\n",
    "\n",
    "import pandas as pd\n",
    "import numpy as np\n",
    "from sklearn.model_selection import train_test_split\n",
    "from sklearn.svm import SVC\n",
    "from sklearn.preprocessing import StandardScaler\n",
    "from sklearn.pipeline import make_pipeline\n",
    "from sklearn.model_selection import RandomizedSearchCV\n",
    "from scipy.stats import loguniform, uniform\n",
    "from sklearn.model_selection import cross_val_score\n",
    "\n",
    "\n",
    "# Step 1: Read in data from Playstore_data.csv\n",
    "data = pd.read_csv('Playstore_data.csv')\n",
    "\n",
    "# Step 2: Prepare data and split into (X) and (y)\n",
    "X = data.iloc[:, :-1].values\n",
    "y = data.iloc[:, -1].values\n",
    "\n",
    "# Step 3: Split data into training and testing sets\n",
    "X_train, X_test, y_train, y_test = train_test_split(X, y, test_size=0.2, random_state=42)\n",
    "\n",
    "# Step 4: Scale the features and create a support vector classifier, train it on the training data\n",
    "svm_clf = make_pipeline(StandardScaler(), SVC(random_state=42))\n",
    "cross_val_score(svm_clf, X_train, y_train).mean()\n",
    "\n",
    "# Step 5: Evaluate the accuracy of the SVM when different values are used for parameters C and gamma.\n",
    "param_distrib = {\n",
    "    \"svc__gamma\": loguniform(0.001, 0.1),\n",
    "    \"svc__C\": uniform(1, 1000)\n",
    "}\n",
    "rnd_search_cv = RandomizedSearchCV(svm_clf, param_distrib,\n",
    "                                   n_iter=100, cv=3, random_state=42)\n",
    "rnd_search_cv.fit(X_train, y_train)\n",
    "rnd_search_cv.best_estimator_\n",
    "\n",
    "\n",
    "\n"
   ]
  },
  {
   "cell_type": "code",
   "execution_count": 2,
   "id": "fc24590d",
   "metadata": {},
   "outputs": [
    {
     "name": "stdout",
     "output_type": "stream",
     "text": [
      "Model Accuray:  72.0 %\n"
     ]
    }
   ],
   "source": [
    "# Model Accuracy\n",
    "print('Model Accuray: ', round((rnd_search_cv.best_score_)*100, 0), '%')"
   ]
  },
  {
   "cell_type": "code",
   "execution_count": 3,
   "id": "a05ea72d",
   "metadata": {},
   "outputs": [
    {
     "name": "stdout",
     "output_type": "stream",
     "text": [
      "Accuray for test data:  73.0 %\n"
     ]
    }
   ],
   "source": [
    "# Test this model on the test set\n",
    "print('Accuray for test data: ', round((rnd_search_cv.score(X_test, y_test))*100, 0), '%')"
   ]
  },
  {
   "cell_type": "markdown",
   "id": "3a1a4664",
   "metadata": {},
   "source": [
    "Accuray for test data:  73.0 %, C=901.4180571633304, gamma=0.01845877663478864"
   ]
  },
  {
   "cell_type": "markdown",
   "id": "7e036916",
   "metadata": {},
   "source": []
  },
  {
   "cell_type": "markdown",
   "id": "b088a8ea",
   "metadata": {},
   "source": [
    "<H2>Task 2 - Choosing Clustering Parameter <em>k</em></H2>"
   ]
  },
  {
   "cell_type": "markdown",
   "id": "892c8dba",
   "metadata": {},
   "source": [
    "<P>The file <code>data1.csv</code> contains 500 data points with 30 features. 30-dimensional data is not easy to plot and visualize. Below, I've written the code to read in the data in <code>data1.csv</code> and have executed <a href=\"http://scikit-learn.org/stable/modules/generated/sklearn.cluster.KMeans.html\"><code>sklearn.cluster.KMeans</code></a> clustering on the data using 10 different values for <em>k</em>: 1,2,3,4,5,6,7,8,9,10. For each of the 10 clusterings, I've kept track of the cost of the clustering, which can be found in the <code>KMeans</code> attribute <code>inertia&#95;</code>, e.g., if you name your <code>KMeans</code> clustering object <code>clustering</code> then the cost after execution would be <code>clustering.inertia&#95;</code>. Finally, I've created an elbow plot showing how the cost of the clustering changes as <em>k</em> varies.</P>"
   ]
  },
  {
   "cell_type": "code",
   "execution_count": 12,
   "id": "83fa2363",
   "metadata": {},
   "outputs": [
    {
     "name": "stderr",
     "output_type": "stream",
     "text": [
      "C:\\Users\\STSC\\anaconda3\\lib\\site-packages\\sklearn\\cluster\\_kmeans.py:1036: UserWarning: KMeans is known to have a memory leak on Windows with MKL, when there are less chunks than available threads. You can avoid it by setting the environment variable OMP_NUM_THREADS=2.\n",
      "  warnings.warn(\n"
     ]
    },
    {
     "data": {
      "image/png": "[encoded data removed]",
      "text/plain": [
       "<Figure size 432x288 with 1 Axes>"
      ]
     },
     "metadata": {
      "needs_background": "light"
     },
     "output_type": "display_data"
    }
   ],
   "source": [
    "# Read in data from CSV file data1.csv.\n",
    "# Run KMeans with different values of k, i.e., k as (1,2,3,4,5,6,7,8,9,10).\n",
    "# Keep track of the \"cost\" of each clustering.\n",
    "# Create an elbow plot showing the cost of a clustering (y-axis) as a function of k (x-axis).\n",
    "\n",
    "import matplotlib.pyplot as plt\n",
    "from sklearn.cluster import KMeans\n",
    "\n",
    "\n",
    "# Step 1: Read in data from CSV file data1.csv.\n",
    "data = pd.read_csv(\"data1.csv\")\n",
    "\n",
    "# Convert data to numpy array\n",
    "X = data.values\n",
    "\n",
    "# Step 2: Run KMeans with different values of k and keep track of the cost of each clustering.\n",
    "k_values = range(1, 11)\n",
    "costs = []  # List to store the cost for each value of k\n",
    "\n",
    "for k in k_values:\n",
    "    kmeans = KMeans(n_clusters=k, random_state=42)\n",
    "    kmeans.fit(X)\n",
    "    costs.append(kmeans.inertia_)\n",
    "    \n",
    "\n",
    "\n",
    "# Step 3: Create an elbow plot showing the cost of a clustering (y-axis) as a function of k (x-axis).\n",
    "plt.plot(k_values, costs, marker='o')\n",
    "plt.xlabel('Number of Clusters (k)')\n",
    "plt.ylabel('Cost')\n",
    "plt.title('Elbow Plot for KMeans Clustering')\n",
    "plt.axis([1, 8.5, 0, 1300])\n",
    "\n",
    "\n",
    "\n",
    "plt.xticks(k_values)\n",
    "plt.grid(True)\n",
    "plt.show()\n"
   ]
  },
  {
   "cell_type": "markdown",
   "id": "c716880f",
   "metadata": {},
   "source": [
    "The elbow point is 5."
   ]
  },
  {
   "cell_type": "markdown",
   "id": "a8afe3fe",
   "metadata": {},
   "source": []
  }
 ],
 "metadata": {
  "kernelspec": {
   "display_name": "Python 3 (ipykernel)",
   "language": "python",
   "name": "python3"
  },
  "language_info": {
   "codemirror_mode": {
    "name": "ipython",
    "version": 3
   },
   "file_extension": ".py",
   "mimetype": "text/x-python",
   "name": "python",
   "nbconvert_exporter": "python",
   "pygments_lexer": "ipython3",
   "version": "3.11.4"
  }
 },
 "nbformat": 4,
 "nbformat_minor": 5
}
